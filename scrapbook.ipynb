{
 "cells": [
  {
   "cell_type": "code",
   "execution_count": 11,
   "id": "9a95aaa1-41cb-445e-9a9e-9a763a2c3c45",
   "metadata": {},
   "outputs": [],
   "source": [
    "from einops_rearrange.transform import extract_information"
   ]
  },
  {
   "cell_type": "code",
   "execution_count": 14,
   "id": "edfbdde3-5403-4fd3-bb96-3bb5c0d00989",
   "metadata": {},
   "outputs": [
    {
     "data": {
      "text/plain": [
       "([([], [0]), ([], [1]), ([], [2])],\n",
       " OrderedDict([('h', -1), ('w', -1), ('c', -1), (23-axis, 23)]),\n",
       " [2, 1, 0],\n",
       " {23-axis: 3},\n",
       " {'h': 0, 'w': 1, 'c': 2, 23-axis: 3},\n",
       " [['c'], ['w'], ['h'], [23-axis]],\n",
       " {3: 23})"
      ]
     },
     "execution_count": 14,
     "metadata": {},
     "output_type": "execute_result"
    }
   ],
   "source": [
    "extract_information(\" h w c -> c w h 23\", {}, 3)"
   ]
  },
  {
   "cell_type": "code",
   "execution_count": 1,
   "id": "128e0507-2fbd-44db-8c3d-2f365f0fd617",
   "metadata": {},
   "outputs": [],
   "source": [
    "from einops_rearrange.main import rearrange"
   ]
  },
  {
   "cell_type": "code",
   "execution_count": 3,
   "id": "8521f703-ae55-4e12-af20-86b316e14761",
   "metadata": {},
   "outputs": [],
   "source": [
    "import numpy as np"
   ]
  },
  {
   "cell_type": "code",
   "execution_count": 4,
   "id": "b35bab10-196b-46f8-afee-74db7de68181",
   "metadata": {},
   "outputs": [
    {
     "name": "stdout",
     "output_type": "stream",
     "text": [
      "[([], [0]), ([], [1]), ([], [2])]\n",
      "++++++++++++++++++++++++++++++\n",
      "OrderedDict({'h': -1, 'w': -1, 'c': -1, 2-axis: 2})\n",
      "++++++++++++++++++++++++++++++\n",
      "[2, 1, 0]\n",
      "++++++++++++++++++++++++++++++\n",
      "{2-axis: 3}\n",
      "++++++++++++++++++++++++++++++\n",
      "{'h': 0, 'w': 1, 'c': 2, 2-axis: 3}\n",
      "++++++++++++++++++++++++++++++\n",
      "[['c'], ['w'], ['h'], [2-axis]]\n",
      "++++++++++++++++++++++++++++++\n",
      "{3: 2}\n",
      "[np.int64(5), np.int64(4), np.int64(3), np.int64(2)]\n"
     ]
    }
   ],
   "source": [
    "x = np.random.rand(3, 4, 5)\n",
    "result = rearrange(x, 'h w c -> c w h 2')"
   ]
  },
  {
   "cell_type": "code",
   "execution_count": 5,
   "id": "05ad6b43-07f4-4bce-92f7-82f994ffbd1b",
   "metadata": {},
   "outputs": [
    {
     "data": {
      "text/plain": [
       "(5, 4, 3, 2)"
      ]
     },
     "execution_count": 5,
     "metadata": {},
     "output_type": "execute_result"
    }
   ],
   "source": [
    "result.shape"
   ]
  },
  {
   "cell_type": "code",
   "execution_count": 19,
   "id": "e9e2e261-1d00-4516-abcf-6ec478d82a45",
   "metadata": {},
   "outputs": [],
   "source": [
    "from einops import repeat"
   ]
  },
  {
   "cell_type": "code",
   "execution_count": 20,
   "id": "1286b2b6-594a-46e9-9ee2-67823607c074",
   "metadata": {},
   "outputs": [],
   "source": [
    "x = np.random.rand(3, 4, 5)\n",
    "result = repeat(x, 'h w c -> c w 1 h')"
   ]
  },
  {
   "cell_type": "code",
   "execution_count": 21,
   "id": "c065caa5-bf35-440b-89a0-ce5d248905c7",
   "metadata": {},
   "outputs": [
    {
     "data": {
      "text/plain": [
       "(5, 4, 1, 3)"
      ]
     },
     "execution_count": 21,
     "metadata": {},
     "output_type": "execute_result"
    }
   ],
   "source": [
    "result.shape"
   ]
  },
  {
   "cell_type": "code",
   "execution_count": 4,
   "id": "03a720a0-b186-443e-a396-72c9dbcf0214",
   "metadata": {},
   "outputs": [],
   "source": [
    "from einops_rearrange.parser import Parser"
   ]
  },
  {
   "cell_type": "code",
   "execution_count": 7,
   "id": "96f4e7db-8409-4c9e-87b8-117517b4eac6",
   "metadata": {},
   "outputs": [],
   "source": [
    "s = Parser(\" c w 12 h\", is_input=False)"
   ]
  },
  {
   "cell_type": "code",
   "execution_count": 8,
   "id": "cb737c16-1391-4c27-8b25-1473e54f7f81",
   "metadata": {},
   "outputs": [
    {
     "data": {
      "text/plain": [
       "{12-axis, 'c', 'h', 'w'}"
      ]
     },
     "execution_count": 8,
     "metadata": {},
     "output_type": "execute_result"
    }
   ],
   "source": [
    "s.identifiers"
   ]
  },
  {
   "cell_type": "code",
   "execution_count": null,
   "id": "343bb3a8-51d3-4a97-8e14-90c5a0d38c02",
   "metadata": {},
   "outputs": [],
   "source": []
  }
 ],
 "metadata": {
  "kernelspec": {
   "display_name": "Python 3 (ipykernel)",
   "language": "python",
   "name": "python3"
  },
  "language_info": {
   "codemirror_mode": {
    "name": "ipython",
    "version": 3
   },
   "file_extension": ".py",
   "mimetype": "text/x-python",
   "name": "python",
   "nbconvert_exporter": "python",
   "pygments_lexer": "ipython3",
   "version": "3.13.2"
  }
 },
 "nbformat": 4,
 "nbformat_minor": 5
}
