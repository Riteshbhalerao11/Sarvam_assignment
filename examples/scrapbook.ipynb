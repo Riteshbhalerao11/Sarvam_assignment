{
 "cells": [
  {
   "cell_type": "code",
   "execution_count": 4,
   "id": "a7175b18-f7fb-4e71-af62-4d82355e7361",
   "metadata": {},
   "outputs": [],
   "source": [
    "import math"
   ]
  },
  {
   "cell_type": "code",
   "execution_count": 1,
   "id": "9a95aaa1-41cb-445e-9a9e-9a763a2c3c45",
   "metadata": {},
   "outputs": [],
   "source": [
    "from einops_rearrange import extract_information"
   ]
  },
  {
   "cell_type": "code",
   "execution_count": 3,
   "id": "2d11adac-a10c-459f-af8f-c7e744097c45",
   "metadata": {},
   "outputs": [
    {
     "name": "stdout",
     "output_type": "stream",
     "text": [
      "known_unk : [([], []), ([], []), ([], [])]\n",
      "axis_lengths : []\n",
      "permutation_order : []\n",
      "axis_position_map : {}\n",
      "output_structure : [[], [], []]\n",
      "added_axes : {}\n"
     ]
    }
   ],
   "source": [
    "print(extract_information(\" () () () -> () () ()\", {}, 3))"
   ]
  },
  {
   "cell_type": "code",
   "execution_count": 3,
   "id": "edfbdde3-5403-4fd3-bb96-3bb5c0d00989",
   "metadata": {},
   "outputs": [
    {
     "name": "stdout",
     "output_type": "stream",
     "text": [
      "known_unk : [([], [0]), ([], [1]), ([], [2])]\n",
      "axis_lengths : [-1, -1, -1, 23]\n",
      "permutation_order : [2, 1, 0]\n",
      "axis_position_map : {'h': 0, 'w': 1, 'c': 2, 23-axis: 3}\n",
      "output_structure : [['c'], ['w'], ['h'], [23-axis]]\n",
      "added_axes : {3: 23}\n"
     ]
    }
   ],
   "source": [
    "print(extract_information(\" h w c -> c w h 23\", {}, 3))"
   ]
  },
  {
   "cell_type": "code",
   "execution_count": 1,
   "id": "128e0507-2fbd-44db-8c3d-2f365f0fd617",
   "metadata": {},
   "outputs": [],
   "source": [
    "from einops_rearrange import rearrange"
   ]
  },
  {
   "cell_type": "code",
   "execution_count": 2,
   "id": "8521f703-ae55-4e12-af20-86b316e14761",
   "metadata": {},
   "outputs": [],
   "source": [
    "import numpy as np"
   ]
  },
  {
   "cell_type": "code",
   "execution_count": 4,
   "id": "0327bff0-5e9a-400a-9a40-ac0efdbfe4fc",
   "metadata": {},
   "outputs": [
    {
     "ename": "EinopsError",
     "evalue": "No identifiers found in the pattern : () () () () -> () () () a",
     "output_type": "error",
     "traceback": [
      "\u001b[31m---------------------------------------------------------------------------\u001b[39m",
      "\u001b[31mEinopsError\u001b[39m                               Traceback (most recent call last)",
      "\u001b[36mCell\u001b[39m\u001b[36m \u001b[39m\u001b[32mIn[4]\u001b[39m\u001b[32m, line 2\u001b[39m\n\u001b[32m      1\u001b[39m x = np.random.rand(\u001b[32m6\u001b[39m, \u001b[32m96\u001b[39m, \u001b[32m96\u001b[39m, \u001b[32m3\u001b[39m)\n\u001b[32m----> \u001b[39m\u001b[32m2\u001b[39m result = \u001b[43mrearrange\u001b[49m\u001b[43m(\u001b[49m\u001b[43mx\u001b[49m\u001b[43m,\u001b[49m\u001b[43m \u001b[49m\u001b[33;43m\"\u001b[39;49m\u001b[33;43m() () () () -> () () () a\u001b[39;49m\u001b[33;43m\"\u001b[39;49m\u001b[43m,\u001b[49m\u001b[43m \u001b[49m\u001b[43ma\u001b[49m\u001b[43m=\u001b[49m\u001b[32;43m34\u001b[39;49m\u001b[43m)\u001b[49m\n",
      "\u001b[36mFile \u001b[39m\u001b[32m~\\AppData\\Local\\Programs\\Python\\Python313\\Lib\\site-packages\\einops_rearrange\\main.py:27\u001b[39m, in \u001b[36mrearrange\u001b[39m\u001b[34m(tensor, pattern, **axes_lengths)\u001b[39m\n\u001b[32m     24\u001b[39m ndim = tensor.ndim\n\u001b[32m     26\u001b[39m \u001b[38;5;66;03m# Extract transformation details\u001b[39;00m\n\u001b[32m---> \u001b[39m\u001b[32m27\u001b[39m extracted_info: ExtractedInfo = \u001b[43mextract_information\u001b[49m\u001b[43m(\u001b[49m\u001b[43mpattern\u001b[49m\u001b[43m,\u001b[49m\u001b[43m \u001b[49m\u001b[43maxes_lengths\u001b[49m\u001b[43m,\u001b[49m\u001b[43m \u001b[49m\u001b[43mndim\u001b[49m\u001b[43m)\u001b[49m\n\u001b[32m     29\u001b[39m \u001b[38;5;66;03m# Apply transformation using extracted information\u001b[39;00m\n\u001b[32m     30\u001b[39m \u001b[38;5;28;01mreturn\u001b[39;00m apply_transform(tensor, extracted_info)\n",
      "\u001b[36mFile \u001b[39m\u001b[32m~\\AppData\\Local\\Programs\\Python\\Python313\\Lib\\site-packages\\einops_rearrange\\transform.py:38\u001b[39m, in \u001b[36mextract_information\u001b[39m\u001b[34m(pattern, known_axes, ndim)\u001b[39m\n\u001b[32m     35\u001b[39m in_pattern, out_pattern = Parser(splits[\u001b[32m0\u001b[39m], is_input=\u001b[38;5;28;01mTrue\u001b[39;00m), Parser(splits[\u001b[32m1\u001b[39m], is_input=\u001b[38;5;28;01mFalse\u001b[39;00m)\n\u001b[32m     37\u001b[39m \u001b[38;5;28;01mif\u001b[39;00m \u001b[38;5;129;01mnot\u001b[39;00m in_pattern.identifiers \u001b[38;5;129;01mor\u001b[39;00m \u001b[38;5;129;01mnot\u001b[39;00m out_pattern.identifiers:\n\u001b[32m---> \u001b[39m\u001b[32m38\u001b[39m     \u001b[38;5;28;01mraise\u001b[39;00m EinopsError(\u001b[33mf\u001b[39m\u001b[33m\"\u001b[39m\u001b[33mNo identifiers found in the pattern : \u001b[39m\u001b[38;5;132;01m{\u001b[39;00mpattern\u001b[38;5;132;01m}\u001b[39;00m\u001b[33m\"\u001b[39m)\n\u001b[32m     40\u001b[39m \u001b[38;5;28;01mif\u001b[39;00m in_pattern.has_ellipsis \u001b[38;5;129;01mand\u001b[39;00m \u001b[38;5;129;01mnot\u001b[39;00m out_pattern.has_ellipsis:\n\u001b[32m     41\u001b[39m     \u001b[38;5;28;01mraise\u001b[39;00m EinopsError(\u001b[33mf\u001b[39m\u001b[33m\"\u001b[39m\u001b[33mEllipsis present in the left side but missing from the right: \u001b[39m\u001b[38;5;132;01m{\u001b[39;00mpattern\u001b[38;5;132;01m}\u001b[39;00m\u001b[33m\"\u001b[39m)\n",
      "\u001b[31mEinopsError\u001b[39m: No identifiers found in the pattern : () () () () -> () () () a"
     ]
    }
   ],
   "source": [
    "x = np.random.rand(6, 96, 96, 3)\n",
    "result = rearrange(x, \"() () () () -> () () () a\", a=34)"
   ]
  },
  {
   "cell_type": "code",
   "execution_count": 8,
   "id": "b35bab10-196b-46f8-afee-74db7de68181",
   "metadata": {},
   "outputs": [],
   "source": [
    "x = np.random.rand(6, 96, 96, 3)\n",
    "result = rearrange(x, \"b1 (b2 h) (s w) c -> b1 b2 h w c s\", b2=3, s=3)"
   ]
  },
  {
   "cell_type": "code",
   "execution_count": 9,
   "id": "05ad6b43-07f4-4bce-92f7-82f994ffbd1b",
   "metadata": {},
   "outputs": [
    {
     "data": {
      "text/plain": [
       "(6, 3, 32, 32, 3, 3)"
      ]
     },
     "execution_count": 9,
     "metadata": {},
     "output_type": "execute_result"
    }
   ],
   "source": [
    "result.shape"
   ]
  },
  {
   "cell_type": "code",
   "execution_count": 19,
   "id": "e9e2e261-1d00-4516-abcf-6ec478d82a45",
   "metadata": {},
   "outputs": [],
   "source": [
    "from einops import repeat"
   ]
  },
  {
   "cell_type": "code",
   "execution_count": 20,
   "id": "1286b2b6-594a-46e9-9ee2-67823607c074",
   "metadata": {},
   "outputs": [],
   "source": [
    "x = np.random.rand(3, 4, 5)\n",
    "result = repeat(x, 'h w c -> c w 1 h')"
   ]
  },
  {
   "cell_type": "code",
   "execution_count": 21,
   "id": "c065caa5-bf35-440b-89a0-ce5d248905c7",
   "metadata": {},
   "outputs": [
    {
     "data": {
      "text/plain": [
       "(5, 4, 1, 3)"
      ]
     },
     "execution_count": 21,
     "metadata": {},
     "output_type": "execute_result"
    }
   ],
   "source": [
    "result.shape"
   ]
  },
  {
   "cell_type": "code",
   "execution_count": 4,
   "id": "03a720a0-b186-443e-a396-72c9dbcf0214",
   "metadata": {},
   "outputs": [],
   "source": [
    "from einops_rearrange.parser import Parser"
   ]
  },
  {
   "cell_type": "code",
   "execution_count": 7,
   "id": "96f4e7db-8409-4c9e-87b8-117517b4eac6",
   "metadata": {},
   "outputs": [],
   "source": [
    "s = Parser(\" c w 12 h\", is_input=False)"
   ]
  },
  {
   "cell_type": "code",
   "execution_count": 8,
   "id": "cb737c16-1391-4c27-8b25-1473e54f7f81",
   "metadata": {},
   "outputs": [
    {
     "data": {
      "text/plain": [
       "{12-axis, 'c', 'h', 'w'}"
      ]
     },
     "execution_count": 8,
     "metadata": {},
     "output_type": "execute_result"
    }
   ],
   "source": [
    "s.identifiers"
   ]
  },
  {
   "cell_type": "code",
   "execution_count": 5,
   "id": "343bb3a8-51d3-4a97-8e14-90c5a0d38c02",
   "metadata": {},
   "outputs": [
    {
     "name": "stdout",
     "output_type": "stream",
     "text": [
      "Einops rearrange time: 0.000270 seconds\n",
      "My rearrange time: 0.002867 seconds\n",
      "Einops repeat time: 0.813127 seconds\n"
     ]
    }
   ],
   "source": [
    "import numpy as np\n",
    "import timeit\n",
    "from einops import rearrange, repeat\n",
    "from einops_rearrange import rearrange as my_rearrange  # Import your custom rearrange function\n",
    "\n",
    "# Generate a random tensor\n",
    "tensor = np.random.randn(100, 100, 100)\n",
    "\n",
    "# Define benchmark functions\n",
    "def einops_rearrange():\n",
    "    return rearrange(tensor, \"a b c -> c a b\")\n",
    "\n",
    "def my_custom_rearrange():\n",
    "    return my_rearrange(tensor, \"a b c -> c a b\")\n",
    "\n",
    "def einops_repeat():\n",
    "    return repeat(tensor, \"a b c -> a (b 2) c\")\n",
    "\n",
    "# Run benchmarks\n",
    "n_trials = 100\n",
    "\n",
    "einops_rearrange_time = timeit.timeit(einops_rearrange, number=n_trials)\n",
    "my_rearrange_time = timeit.timeit(my_custom_rearrange, number=n_trials)\n",
    "einops_repeat_time = timeit.timeit(einops_repeat, number=n_trials)\n",
    "\n",
    "# Print results\n",
    "print(f\"Einops rearrange time: {einops_rearrange_time:.6f} seconds\")\n",
    "print(f\"My rearrange time: {my_rearrange_time:.6f} seconds\")\n",
    "print(f\"Einops repeat time: {einops_repeat_time:.6f} seconds\")\n"
   ]
  },
  {
   "cell_type": "code",
   "execution_count": 6,
   "id": "e510e724-c951-4439-9df7-17c1948c0ad5",
   "metadata": {},
   "outputs": [
    {
     "data": {
      "text/plain": [
       "283.61593972228223"
      ]
     },
     "execution_count": 6,
     "metadata": {},
     "output_type": "execute_result"
    }
   ],
   "source": [
    "einops_repeat_time / my_rearrange_time"
   ]
  },
  {
   "cell_type": "code",
   "execution_count": 1,
   "id": "40337efb-eff2-4155-be97-35b55c9fb120",
   "metadata": {},
   "outputs": [
    {
     "name": "stdout",
     "output_type": "stream",
     "text": [
      "My rearrange memory usage: 2.63 KB\n",
      "Einops repeat memory usage: 4.22 KB\n"
     ]
    }
   ],
   "source": [
    "import numpy as np\n",
    "import tracemalloc\n",
    "from einops import repeat\n",
    "from einops_rearrange import rearrange  # Import your custom rearrange\n",
    "\n",
    "# Create a random tensor\n",
    "x = np.random.rand(3, 4)\n",
    "\n",
    "# Function to measure memory usage\n",
    "def measure_memory(func, *args, **kwargs):\n",
    "    tracemalloc.start()\n",
    "    _ = func(*args, **kwargs)  # Run function\n",
    "    current, peak = tracemalloc.get_traced_memory()\n",
    "    tracemalloc.stop()\n",
    "    return peak / 1024  # Convert to KB\n",
    "\n",
    "# Measure memory for rearrange\n",
    "rearrange_memory = measure_memory(rearrange, x, 'h w -> w h')\n",
    "\n",
    "# Measure memory for repeat\n",
    "repeat_memory = measure_memory(repeat, x, 'h w -> w h')\n",
    "\n",
    "print(f\"My rearrange memory usage: {rearrange_memory:.2f} KB\")\n",
    "print(f\"Einops repeat memory usage: {repeat_memory:.2f} KB\")"
   ]
  },
  {
   "cell_type": "code",
   "execution_count": null,
   "id": "489c008c-6bd7-45aa-88a3-d16854718bdd",
   "metadata": {},
   "outputs": [],
   "source": []
  }
 ],
 "metadata": {
  "kernelspec": {
   "display_name": "Python 3 (ipykernel)",
   "language": "python",
   "name": "python3"
  },
  "language_info": {
   "codemirror_mode": {
    "name": "ipython",
    "version": 3
   },
   "file_extension": ".py",
   "mimetype": "text/x-python",
   "name": "python",
   "nbconvert_exporter": "python",
   "pygments_lexer": "ipython3",
   "version": "3.13.2"
  }
 },
 "nbformat": 4,
 "nbformat_minor": 5
}
