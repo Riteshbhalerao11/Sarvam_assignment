{
 "cells": [
  {
   "cell_type": "markdown",
   "metadata": {},
   "source": [
    "# Einops visual examples"
   ]
  },
  {
   "cell_type": "markdown",
   "metadata": {},
   "source": [
    "## Preparations"
   ]
  },
  {
   "cell_type": "code",
   "execution_count": 7,
   "metadata": {},
   "outputs": [],
   "source": [
    "import numpy as np\n",
    "from PIL.Image import fromarray\n",
    "from IPython import get_ipython\n",
    "from IPython.display import display_html\n",
    "\n",
    "from einops import rearrange as ei_rearrange, repeat\n",
    "from einops_rearrange import rearrange"
   ]
  },
  {
   "cell_type": "code",
   "execution_count": 8,
   "metadata": {},
   "outputs": [],
   "source": [
    "def display_np_arrays_as_images():\n",
    "    def np_to_png(a):\n",
    "        if 2 <= len(a.shape) <= 3:\n",
    "            return fromarray(np.array(np.clip(a, 0, 1) * 255, dtype=\"uint8\"))._repr_png_()\n",
    "        else:\n",
    "            return fromarray(np.zeros([1, 1], dtype=\"uint8\"))._repr_png_()\n",
    "\n",
    "    def np_to_text(obj, p, cycle):\n",
    "        if len(obj.shape) < 2:\n",
    "            print(repr(obj))\n",
    "        if 2 <= len(obj.shape) <= 3:\n",
    "            pass\n",
    "        else:\n",
    "            print(\"<array of shape {}>\".format(obj.shape))\n",
    "\n",
    "    get_ipython().display_formatter.formatters[\"image/png\"].for_type(np.ndarray, np_to_png)\n",
    "    get_ipython().display_formatter.formatters[\"text/plain\"].for_type(np.ndarray, np_to_text)"
   ]
  },
  {
   "cell_type": "code",
   "execution_count": 9,
   "metadata": {},
   "outputs": [],
   "source": [
    "display_np_arrays_as_images()"
   ]
  },
  {
   "cell_type": "markdown",
   "metadata": {},
   "source": [
    "## Load a batch of images to play with"
   ]
  },
  {
   "cell_type": "code",
   "execution_count": 10,
   "metadata": {},
   "outputs": [
    {
     "name": "stdout",
     "output_type": "stream",
     "text": [
      "(6, 96, 96, 3) float64\n"
     ]
    }
   ],
   "source": [
    "ims = np.load(\"test_images.npy\", allow_pickle=False)\n",
    "# There are 6 images of shape 96x96 with 3 color channels packed into tensor\n",
    "print(ims.shape, ims.dtype)"
   ]
  },
  {
   "cell_type": "code",
   "execution_count": 11,
   "metadata": {
    "pycharm": {
     "name": "#%%\n"
    }
   },
   "outputs": [
    {
     "data": {
      "image/png": "[encoded data removed]",
      "text/plain": []
     },
     "execution_count": 11,
     "metadata": {},
     "output_type": "execute_result"
    }
   ],
   "source": [
    "# display the first image (whole 4d tensor can't be rendered)\n",
    "ims[0]"
   ]
  },
  {
   "cell_type": "code",
   "execution_count": 12,
   "metadata": {
    "pycharm": {
     "name": "#%%\n"
    }
   },
   "outputs": [
    {
     "data": {
      "image/png": "[encoded data removed]",
      "text/plain": []
     },
     "execution_count": 12,
     "metadata": {},
     "output_type": "execute_result"
    }
   ],
   "source": [
    "# second image in a batch\n",
    "ims[1]"
   ]
  },
  {
   "cell_type": "code",
   "execution_count": 13,
   "metadata": {},
   "outputs": [
    {
     "name": "stdout",
     "output_type": "stream",
     "text": [
      "[([], [0]), ([], [1]), ([], [2])]\n",
      "++++++++++++++++++++++++++++++\n",
      "OrderedDict({'h': -1, 'w': -1, 'c': -1})\n",
      "++++++++++++++++++++++++++++++\n",
      "[1, 0, 2]\n",
      "++++++++++++++++++++++++++++++\n",
      "{}\n",
      "++++++++++++++++++++++++++++++\n",
      "{'h': 0, 'w': 1, 'c': 2}\n",
      "++++++++++++++++++++++++++++++\n",
      "[['w'], ['h'], ['c']]\n",
      "++++++++++++++++++++++++++++++\n",
      "{}\n",
      "[np.int64(96), np.int64(96), np.int64(3)]\n",
      "None\n",
      "[1, 0, 2]\n"
     ]
    },
    {
     "data": {
      "image/png": "[encoded data removed]",
      "text/plain": []
     },
     "execution_count": 13,
     "metadata": {},
     "output_type": "execute_result"
    }
   ],
   "source": [
    "# rearrange, as the name suggests, rearranges elements\n",
    "# below we swapped height and width.\n",
    "# In other words, transposed first two axes (dimensions)\n",
    "rearrange(ims[0], \"h w c -> w h c\")"
   ]
  },
  {
   "cell_type": "code",
   "execution_count": 14,
   "metadata": {},
   "outputs": [
    {
     "name": "stdout",
     "output_type": "stream",
     "text": [
      "[([], [0]), ([], [1]), ([], [2])]\n",
      "++++++++++++++++++++++++++++++\n",
      "OrderedDict({'height': -1, 'width': -1, 'color': -1})\n",
      "++++++++++++++++++++++++++++++\n",
      "[1, 0, 2]\n",
      "++++++++++++++++++++++++++++++\n",
      "{}\n",
      "++++++++++++++++++++++++++++++\n",
      "{'height': 0, 'width': 1, 'color': 2}\n",
      "++++++++++++++++++++++++++++++\n",
      "[['width'], ['height'], ['color']]\n",
      "++++++++++++++++++++++++++++++\n",
      "{}\n",
      "[np.int64(96), np.int64(96), np.int64(3)]\n",
      "None\n",
      "[1, 0, 2]\n"
     ]
    },
    {
     "data": {
      "image/png": "[encoded data removed]",
      "text/plain": []
     },
     "execution_count": 14,
     "metadata": {},
     "output_type": "execute_result"
    }
   ],
   "source": [
    "# we could use more verbose names for axes, and result is the same:\n",
    "rearrange(ims[0], \"height width color -> width height color\")\n",
    "# when you operate on same set of axes many times,\n",
    "# you usually come up with short names.\n",
    "# That's what we do throughout tutorial - we'll use b (for batch), h, w, and c"
   ]
  },
  {
   "cell_type": "markdown",
   "metadata": {},
   "source": [
    "## Composition of axes\n",
    "transposition is very common and useful, but let's move to other capabilities provided by einops"
   ]
  },
  {
   "cell_type": "code",
   "execution_count": 15,
   "metadata": {},
   "outputs": [
    {
     "name": "stdout",
     "output_type": "stream",
     "text": [
      "[([], [0]), ([], [1]), ([], [2]), ([], [3])]\n",
      "++++++++++++++++++++++++++++++\n",
      "OrderedDict({'b': -1, 'h': -1, 'w': -1, 'c': -1})\n",
      "++++++++++++++++++++++++++++++\n",
      "[0, 1, 2, 3]\n",
      "++++++++++++++++++++++++++++++\n",
      "{}\n",
      "++++++++++++++++++++++++++++++\n",
      "{'b': 0, 'h': 1, 'w': 2, 'c': 3}\n",
      "++++++++++++++++++++++++++++++\n",
      "[['b', 'h'], ['w'], ['c']]\n",
      "++++++++++++++++++++++++++++++\n",
      "{}\n",
      "[np.int64(576), np.int64(96), np.int64(3)]\n",
      "None\n",
      "[0, 1, 2, 3]\n"
     ]
    },
    {
     "data": {
      "image/png": "[encoded data removed]",
      "text/plain": []
     },
     "execution_count": 15,
     "metadata": {},
     "output_type": "execute_result"
    }
   ],
   "source": [
    "# einops allows seamlessly composing batch and height to a new height dimension\n",
    "# We just rendered all images by collapsing to 3d tensor!\n",
    "rearrange(ims, \"b h w c -> (b h) w c\")"
   ]
  },
  {
   "cell_type": "code",
   "execution_count": 16,
   "metadata": {},
   "outputs": [
    {
     "name": "stdout",
     "output_type": "stream",
     "text": [
      "[([], [0]), ([], [1]), ([], [2]), ([], [3])]\n",
      "++++++++++++++++++++++++++++++\n",
      "OrderedDict({'b': -1, 'h': -1, 'w': -1, 'c': -1})\n",
      "++++++++++++++++++++++++++++++\n",
      "[1, 0, 2, 3]\n",
      "++++++++++++++++++++++++++++++\n",
      "{}\n",
      "++++++++++++++++++++++++++++++\n",
      "{'b': 0, 'h': 1, 'w': 2, 'c': 3}\n",
      "++++++++++++++++++++++++++++++\n",
      "[['h'], ['b', 'w'], ['c']]\n",
      "++++++++++++++++++++++++++++++\n",
      "{}\n",
      "[np.int64(96), np.int64(576), np.int64(3)]\n",
      "None\n",
      "[1, 0, 2, 3]\n"
     ]
    },
    {
     "data": {
      "image/png": "[encoded data removed]",
      "text/plain": []
     },
     "execution_count": 16,
     "metadata": {},
     "output_type": "execute_result"
    }
   ],
   "source": [
    "# or compose a new dimension of batch and width\n",
    "rearrange(ims, \"b h w c -> h (b w) c\")"
   ]
  },
  {
   "cell_type": "code",
   "execution_count": 17,
   "metadata": {
    "pycharm": {
     "name": "#%%\n"
    }
   },
   "outputs": [
    {
     "name": "stdout",
     "output_type": "stream",
     "text": [
      "[([], [0]), ([], [1]), ([], [2]), ([], [3])]\n",
      "++++++++++++++++++++++++++++++\n",
      "OrderedDict({'b': -1, 'h': -1, 'w': -1, 'c': -1})\n",
      "++++++++++++++++++++++++++++++\n",
      "[1, 0, 2, 3]\n",
      "++++++++++++++++++++++++++++++\n",
      "{}\n",
      "++++++++++++++++++++++++++++++\n",
      "{'b': 0, 'h': 1, 'w': 2, 'c': 3}\n",
      "++++++++++++++++++++++++++++++\n",
      "[['h'], ['b', 'w'], ['c']]\n",
      "++++++++++++++++++++++++++++++\n",
      "{}\n",
      "[np.int64(96), np.int64(576), np.int64(3)]\n",
      "None\n",
      "[1, 0, 2, 3]\n"
     ]
    },
    {
     "data": {
      "text/plain": [
       "(96, 576, 3)"
      ]
     },
     "execution_count": 17,
     "metadata": {},
     "output_type": "execute_result"
    }
   ],
   "source": [
    "# resulting dimensions are computed very simply\n",
    "# length of newly composed axis is a product of components\n",
    "# [6, 96, 96, 3] -> [96, (6 * 96), 3]\n",
    "rearrange(ims, \"b h w c -> h (b w) c\").shape"
   ]
  },
  {
   "cell_type": "code",
   "execution_count": 18,
   "metadata": {
    "pycharm": {
     "name": "#%%\n"
    }
   },
   "outputs": [
    {
     "name": "stdout",
     "output_type": "stream",
     "text": [
      "[([], [0]), ([], [1]), ([], [2]), ([], [3])]\n",
      "++++++++++++++++++++++++++++++\n",
      "OrderedDict({'b': -1, 'h': -1, 'w': -1, 'c': -1})\n",
      "++++++++++++++++++++++++++++++\n",
      "[0, 1, 2, 3]\n",
      "++++++++++++++++++++++++++++++\n",
      "{}\n",
      "++++++++++++++++++++++++++++++\n",
      "{'b': 0, 'h': 1, 'w': 2, 'c': 3}\n",
      "++++++++++++++++++++++++++++++\n",
      "[['b', 'h', 'w', 'c']]\n",
      "++++++++++++++++++++++++++++++\n",
      "{}\n",
      "[np.int64(165888)]\n",
      "None\n",
      "[0, 1, 2, 3]\n"
     ]
    },
    {
     "data": {
      "text/plain": [
       "(165888,)"
      ]
     },
     "execution_count": 18,
     "metadata": {},
     "output_type": "execute_result"
    }
   ],
   "source": [
    "# we can compose more than two axes.\n",
    "# let's flatten 4d array into 1d, resulting array has as many elements as the original\n",
    "rearrange(ims, \"b h w c -> (b h w c)\").shape"
   ]
  },
  {
   "cell_type": "markdown",
   "metadata": {
    "pycharm": {
     "name": "#%% md\n"
    }
   },
   "source": [
    "## Decomposition of axis"
   ]
  },
  {
   "cell_type": "code",
   "execution_count": 19,
   "metadata": {},
   "outputs": [
    {
     "data": {
      "text/plain": [
       "(6, 96, 96, 3)"
      ]
     },
     "execution_count": 19,
     "metadata": {},
     "output_type": "execute_result"
    }
   ],
   "source": [
    "ims.shape"
   ]
  },
  {
   "cell_type": "code",
   "execution_count": 20,
   "metadata": {
    "pycharm": {
     "name": "#%%\n"
    }
   },
   "outputs": [
    {
     "name": "stdout",
     "output_type": "stream",
     "text": [
      "[([0], [1]), ([], [2]), ([], [3]), ([], [4])]\n",
      "++++++++++++++++++++++++++++++\n",
      "OrderedDict({'b1': 2, 'b2': -1, 'h': -1, 'w': -1, 'c': -1})\n",
      "++++++++++++++++++++++++++++++\n",
      "[0, 1, 2, 3, 4]\n",
      "++++++++++++++++++++++++++++++\n",
      "{}\n",
      "++++++++++++++++++++++++++++++\n",
      "{'b1': 0, 'b2': 1, 'h': 2, 'w': 3, 'c': 4}\n",
      "++++++++++++++++++++++++++++++\n",
      "[['b1'], ['b2'], ['h'], ['w'], ['c']]\n",
      "++++++++++++++++++++++++++++++\n",
      "{}\n",
      "[np.int64(2), np.int64(3), np.int64(96), np.int64(96), np.int64(3)]\n",
      "[2, np.int64(3), 96, 96, 3]\n",
      "[0, 1, 2, 3, 4]\n"
     ]
    },
    {
     "data": {
      "text/plain": [
       "(2, 3, 96, 96, 3)"
      ]
     },
     "execution_count": 20,
     "metadata": {},
     "output_type": "execute_result"
    }
   ],
   "source": [
    "# decomposition is the inverse process - represent an axis as a combination of new axes\n",
    "# several decompositions possible, so b1=2 is to decompose 6 to b1=2 and b2=3\n",
    "rearrange(ims, \"(b1 b2) h w c -> b1 b2 h w c \", b1=2).shape"
   ]
  },
  {
   "cell_type": "code",
   "execution_count": 21,
   "metadata": {},
   "outputs": [
    {
     "name": "stdout",
     "output_type": "stream",
     "text": [
      "[([0], [1]), ([], [2]), ([], [3]), ([], [4])]\n",
      "++++++++++++++++++++++++++++++\n",
      "OrderedDict({'b1': 2, 'b2': -1, 'h': -1, 'w': -1, 'c': -1})\n",
      "++++++++++++++++++++++++++++++\n",
      "[0, 2, 1, 3, 4]\n",
      "++++++++++++++++++++++++++++++\n",
      "{}\n",
      "++++++++++++++++++++++++++++++\n",
      "{'b1': 0, 'b2': 1, 'h': 2, 'w': 3, 'c': 4}\n",
      "++++++++++++++++++++++++++++++\n",
      "[['b1', 'h'], ['b2', 'w'], ['c']]\n",
      "++++++++++++++++++++++++++++++\n",
      "{}\n",
      "[np.int64(192), np.int64(288), np.int64(3)]\n",
      "[2, np.int64(3), 96, 96, 3]\n",
      "[0, 2, 1, 3, 4]\n"
     ]
    },
    {
     "data": {
      "image/png": "[encoded data removed]",
      "text/plain": []
     },
     "execution_count": 21,
     "metadata": {},
     "output_type": "execute_result"
    }
   ],
   "source": [
    "# finally, combine composition and decomposition:\n",
    "rearrange(ims, \"(b1 b2) h w c -> (b1 h) (b2 w) c \", b1=2)"
   ]
  },
  {
   "cell_type": "code",
   "execution_count": 22,
   "metadata": {
    "pycharm": {
     "name": "#%%\n"
    }
   },
   "outputs": [
    {
     "name": "stdout",
     "output_type": "stream",
     "text": [
      "[([0], [1]), ([], [2]), ([], [3]), ([], [4])]\n",
      "++++++++++++++++++++++++++++++\n",
      "OrderedDict({'b1': 2, 'b2': -1, 'h': -1, 'w': -1, 'c': -1})\n",
      "++++++++++++++++++++++++++++++\n",
      "[1, 2, 0, 3, 4]\n",
      "++++++++++++++++++++++++++++++\n",
      "{}\n",
      "++++++++++++++++++++++++++++++\n",
      "{'b1': 0, 'b2': 1, 'h': 2, 'w': 3, 'c': 4}\n",
      "++++++++++++++++++++++++++++++\n",
      "[['b2', 'h'], ['b1', 'w'], ['c']]\n",
      "++++++++++++++++++++++++++++++\n",
      "{}\n",
      "[np.int64(288), np.int64(192), np.int64(3)]\n",
      "[2, np.int64(3), 96, 96, 3]\n",
      "[1, 2, 0, 3, 4]\n"
     ]
    },
    {
     "data": {
      "image/png": "[encoded data removed]",
      "text/plain": []
     },
     "execution_count": 22,
     "metadata": {},
     "output_type": "execute_result"
    }
   ],
   "source": [
    "# slightly different composition: b1 is merged with width, b2 with height\n",
    "# ... so letters are ordered by w then by h\n",
    "rearrange(ims, \"(b1 b2) h w c -> (b2 h) (b1 w) c \", b1=2)"
   ]
  },
  {
   "cell_type": "code",
   "execution_count": 23,
   "metadata": {},
   "outputs": [
    {
     "name": "stdout",
     "output_type": "stream",
     "text": [
      "[([], [0]), ([], [1]), ([3], [2]), ([], [4])]\n",
      "++++++++++++++++++++++++++++++\n",
      "OrderedDict({'b': -1, 'h': -1, 'w': -1, 'w2': 2, 'c': -1})\n",
      "++++++++++++++++++++++++++++++\n",
      "[1, 3, 0, 2, 4]\n",
      "++++++++++++++++++++++++++++++\n",
      "{}\n",
      "++++++++++++++++++++++++++++++\n",
      "{'b': 0, 'h': 1, 'w': 2, 'w2': 3, 'c': 4}\n",
      "++++++++++++++++++++++++++++++\n",
      "[['h', 'w2'], ['b', 'w'], ['c']]\n",
      "++++++++++++++++++++++++++++++\n",
      "{}\n",
      "[np.int64(192), np.int64(288), np.int64(3)]\n",
      "[6, 96, np.int64(48), 2, 3]\n",
      "[1, 3, 0, 2, 4]\n"
     ]
    },
    {
     "data": {
      "image/png": "[encoded data removed]",
      "text/plain": []
     },
     "execution_count": 23,
     "metadata": {},
     "output_type": "execute_result"
    }
   ],
   "source": [
    "# move part of width dimension to height.\n",
    "# we should call this width-to-height as image width shrunk by 2 and height doubled.\n",
    "# but all pixels are the same!\n",
    "# Can you write reverse operation (height-to-width)?\n",
    "rearrange(ims, \"b h (w w2) c -> (h w2) (b w) c\", w2=2)"
   ]
  },
  {
   "cell_type": "markdown",
   "metadata": {},
   "source": [
    "## Order of axes matters"
   ]
  },
  {
   "cell_type": "code",
   "execution_count": 24,
   "metadata": {},
   "outputs": [
    {
     "name": "stdout",
     "output_type": "stream",
     "text": [
      "[([], [0]), ([], [1]), ([], [2]), ([], [3])]\n",
      "++++++++++++++++++++++++++++++\n",
      "OrderedDict({'b': -1, 'h': -1, 'w': -1, 'c': -1})\n",
      "++++++++++++++++++++++++++++++\n",
      "[1, 0, 2, 3]\n",
      "++++++++++++++++++++++++++++++\n",
      "{}\n",
      "++++++++++++++++++++++++++++++\n",
      "{'b': 0, 'h': 1, 'w': 2, 'c': 3}\n",
      "++++++++++++++++++++++++++++++\n",
      "[['h'], ['b', 'w'], ['c']]\n",
      "++++++++++++++++++++++++++++++\n",
      "{}\n",
      "[np.int64(96), np.int64(576), np.int64(3)]\n",
      "None\n",
      "[1, 0, 2, 3]\n"
     ]
    },
    {
     "data": {
      "image/png": "[encoded data removed]",
      "text/plain": []
     },
     "execution_count": 24,
     "metadata": {},
     "output_type": "execute_result"
    }
   ],
   "source": [
    "# compare with the next example\n",
    "rearrange(ims, \"b h w c -> h (b w) c\")"
   ]
  },
  {
   "cell_type": "code",
   "execution_count": 25,
   "metadata": {
    "pycharm": {
     "name": "#%%\n"
    }
   },
   "outputs": [
    {
     "name": "stdout",
     "output_type": "stream",
     "text": [
      "[([], [0]), ([], [1]), ([], [2]), ([], [3])]\n",
      "++++++++++++++++++++++++++++++\n",
      "OrderedDict({'b': -1, 'h': -1, 'w': -1, 'c': -1})\n",
      "++++++++++++++++++++++++++++++\n",
      "[1, 2, 0, 3]\n",
      "++++++++++++++++++++++++++++++\n",
      "{}\n",
      "++++++++++++++++++++++++++++++\n",
      "{'b': 0, 'h': 1, 'w': 2, 'c': 3}\n",
      "++++++++++++++++++++++++++++++\n",
      "[['h'], ['w', 'b'], ['c']]\n",
      "++++++++++++++++++++++++++++++\n",
      "{}\n",
      "[np.int64(96), np.int64(576), np.int64(3)]\n",
      "None\n",
      "[1, 2, 0, 3]\n"
     ]
    },
    {
     "data": {
      "image/png": "[encoded data removed]",
      "text/plain": []
     },
     "execution_count": 25,
     "metadata": {},
     "output_type": "execute_result"
    }
   ],
   "source": [
    "# order of axes in composition is different\n",
    "# rule is just as for digits in the number: leftmost digit is the most significant,\n",
    "# while neighboring numbers differ in the rightmost axis.\n",
    "\n",
    "# you can also think of this as lexicographic sort\n",
    "rearrange(ims, \"b h w c -> h (w b) c\")"
   ]
  },
  {
   "cell_type": "code",
   "execution_count": 26,
   "metadata": {
    "pycharm": {
     "name": "#%%\n"
    }
   },
   "outputs": [
    {
     "name": "stdout",
     "output_type": "stream",
     "text": [
      "[([0], [1]), ([], [2]), ([], [3]), ([], [4])]\n",
      "++++++++++++++++++++++++++++++\n",
      "OrderedDict({'b1': 2, 'b2': -1, 'h': -1, 'w': -1, 'c': -1})\n",
      "++++++++++++++++++++++++++++++\n",
      "[2, 0, 1, 3, 4]\n",
      "++++++++++++++++++++++++++++++\n",
      "{}\n",
      "++++++++++++++++++++++++++++++\n",
      "{'b1': 0, 'b2': 1, 'h': 2, 'w': 3, 'c': 4}\n",
      "++++++++++++++++++++++++++++++\n",
      "[['h'], ['b1', 'b2', 'w'], ['c']]\n",
      "++++++++++++++++++++++++++++++\n",
      "{}\n",
      "[np.int64(96), np.int64(576), np.int64(3)]\n",
      "[2, np.int64(3), 96, 96, 3]\n",
      "[2, 0, 1, 3, 4]\n",
      "[([0], [1]), ([], [2]), ([], [3]), ([], [4])]\n",
      "++++++++++++++++++++++++++++++\n",
      "OrderedDict({'b1': 2, 'b2': -1, 'h': -1, 'w': -1, 'c': -1})\n",
      "++++++++++++++++++++++++++++++\n",
      "[2, 1, 0, 3, 4]\n",
      "++++++++++++++++++++++++++++++\n",
      "{}\n",
      "++++++++++++++++++++++++++++++\n",
      "{'b1': 0, 'b2': 1, 'h': 2, 'w': 3, 'c': 4}\n",
      "++++++++++++++++++++++++++++++\n",
      "[['h'], ['b2', 'b1', 'w'], ['c']]\n",
      "++++++++++++++++++++++++++++++\n",
      "{}\n",
      "[np.int64(96), np.int64(576), np.int64(3)]\n",
      "[2, np.int64(3), 96, 96, 3]\n",
      "[2, 1, 0, 3, 4]\n"
     ]
    },
    {
     "data": {
      "image/png": "[encoded data removed]",
      "text/plain": []
     },
     "execution_count": 26,
     "metadata": {},
     "output_type": "execute_result"
    }
   ],
   "source": [
    "# what if b1 and b2 are reordered before composing to width?\n",
    "rearrange(ims, \"(b1 b2) h w c -> h (b1 b2 w) c \", b1=2)  # produces 'einops'\n",
    "rearrange(ims, \"(b1 b2) h w c -> h (b2 b1 w) c \", b1=2)  # produces 'eoipns'"
   ]
  },
  {
   "cell_type": "markdown",
   "metadata": {
    "collapsed": false,
    "jupyter": {
     "outputs_hidden": false
    },
    "pycharm": {
     "name": "#%%\n"
    }
   },
   "source": [
    "## Stack and concatenate"
   ]
  },
  {
   "cell_type": "code",
   "execution_count": 25,
   "metadata": {
    "pycharm": {
     "name": "#%%\n"
    }
   },
   "outputs": [
    {
     "name": "stdout",
     "output_type": "stream",
     "text": [
      "<class 'list'> with 6 tensors of shape (96, 96, 3)\n"
     ]
    },
    {
     "data": {
      "text/plain": [
       "(6, 96, 96, 3)"
      ]
     },
     "execution_count": 25,
     "metadata": {},
     "output_type": "execute_result"
    }
   ],
   "source": [
    "# rearrange can also take care of lists of arrays with the same shape\n",
    "x = list(ims)\n",
    "print(type(x), \"with\", len(x), \"tensors of shape\", x[0].shape)\n",
    "# that's how we can stack inputs\n",
    "# \"list axis\" becomes first (\"b\" in this case), and we left it there\n",
    "rearrange(x, \"b h w c -> b h w c\").shape"
   ]
  },
  {
   "cell_type": "code",
   "execution_count": 26,
   "metadata": {
    "pycharm": {
     "name": "#%%\n"
    }
   },
   "outputs": [
    {
     "data": {
      "text/plain": [
       "(96, 96, 3, 6)"
      ]
     },
     "execution_count": 26,
     "metadata": {},
     "output_type": "execute_result"
    }
   ],
   "source": [
    "# but new axis can appear in the other place:\n",
    "rearrange(x, \"b h w c -> h w c b\").shape"
   ]
  },
  {
   "cell_type": "code",
   "execution_count": 27,
   "metadata": {
    "collapsed": false,
    "jupyter": {
     "outputs_hidden": false
    },
    "pycharm": {
     "name": "#%%\n"
    }
   },
   "outputs": [
    {
     "data": {
      "text/plain": [
       "True"
      ]
     },
     "execution_count": 27,
     "metadata": {},
     "output_type": "execute_result"
    }
   ],
   "source": [
    "# that's equivalent to np stacking, but written more explicitly\n",
    "np.array_equal(rearrange(x, \"b h w c -> h w c b\"), np.stack(x, axis=3))"
   ]
  },
  {
   "cell_type": "code",
   "execution_count": 28,
   "metadata": {
    "pycharm": {
     "name": "#%%\n"
    }
   },
   "outputs": [
    {
     "data": {
      "text/plain": [
       "(96, 576, 3)"
      ]
     },
     "execution_count": 28,
     "metadata": {},
     "output_type": "execute_result"
    }
   ],
   "source": [
    "# ... or we can concatenate along axes\n",
    "rearrange(x, \"b h w c -> h (b w) c\").shape"
   ]
  },
  {
   "cell_type": "code",
   "execution_count": 29,
   "metadata": {
    "pycharm": {
     "name": "#%%\n"
    }
   },
   "outputs": [
    {
     "data": {
      "text/plain": [
       "True"
      ]
     },
     "execution_count": 29,
     "metadata": {},
     "output_type": "execute_result"
    }
   ],
   "source": [
    "# which is equivalent to concatenation\n",
    "np.array_equal(rearrange(x, \"b h w c -> h (b w) c\"), np.concatenate(x, axis=1))"
   ]
  },
  {
   "cell_type": "markdown",
   "metadata": {},
   "source": [
    "## Addition or removal of axes\n",
    "\n",
    "You can write 1 to create a new axis of length 1. Similarly you can remove such axis.\n",
    "\n",
    "There is also a synonym `()` that you can use. That's a composition of zero axes and it also has a unit length."
   ]
  },
  {
   "cell_type": "code",
   "execution_count": 27,
   "metadata": {},
   "outputs": [
    {
     "name": "stdout",
     "output_type": "stream",
     "text": [
      "[([], [0]), ([], [1]), ([], [2]), ([], [3])]\n",
      "++++++++++++++++++++++++++++++\n",
      "OrderedDict({'b': -1, 'h': -1, 'w': -1, 'c': -1})\n",
      "++++++++++++++++++++++++++++++\n",
      "[0, 1, 2, 3]\n",
      "++++++++++++++++++++++++++++++\n",
      "{}\n",
      "++++++++++++++++++++++++++++++\n",
      "{'b': 0, 'h': 1, 'w': 2, 'c': 3}\n",
      "++++++++++++++++++++++++++++++\n",
      "[['b'], [], ['h'], ['w'], [], ['c']]\n",
      "++++++++++++++++++++++++++++++\n",
      "{}\n",
      "[np.int64(6), 1, np.int64(96), np.int64(96), 1, np.int64(3)]\n",
      "None\n",
      "[0, 1, 2, 3]\n",
      "(6, 1, 96, 96, 1, 3)\n",
      "[([], [0]), ([], []), ([], [1]), ([], [2]), ([], []), ([], [3])]\n",
      "++++++++++++++++++++++++++++++\n",
      "OrderedDict({'b': -1, 'h': -1, 'w': -1, 'c': -1})\n",
      "++++++++++++++++++++++++++++++\n",
      "[0, 1, 2, 3]\n",
      "++++++++++++++++++++++++++++++\n",
      "{}\n",
      "++++++++++++++++++++++++++++++\n",
      "{'b': 0, 'h': 1, 'w': 2, 'c': 3}\n",
      "++++++++++++++++++++++++++++++\n",
      "[['b'], ['h'], ['w'], ['c']]\n",
      "++++++++++++++++++++++++++++++\n",
      "{}\n",
      "[np.int64(6), np.int64(96), np.int64(96), np.int64(3)]\n",
      "[6, 96, 96, 3]\n",
      "[0, 1, 2, 3]\n",
      "(6, 96, 96, 3)\n"
     ]
    }
   ],
   "source": [
    "x = rearrange(ims, \"b h w c -> b 1 h w 1 c\")  # functionality of np.expand_dims\n",
    "print(x.shape)\n",
    "print(rearrange(x, \"b 1 h w 1 c -> b h w c\").shape)  # functionality of np.squeeze"
   ]
  },
  {
   "cell_type": "markdown",
   "metadata": {},
   "source": [
    "## Repeating elements\n",
    "\n",
    "Third operation we introduce is `repeat`"
   ]
  },
  {
   "cell_type": "code",
   "execution_count": 33,
   "metadata": {},
   "outputs": [
    {
     "name": "stdout",
     "output_type": "stream",
     "text": [
      "[([], [0]), ([], [1]), ([], [2])]\n",
      "++++++++++++++++++++++++++++++\n",
      "OrderedDict({'h': -1, 'w': -1, 'c': -1, 'repeat': 3})\n",
      "++++++++++++++++++++++++++++++\n",
      "[0, 1, 2]\n",
      "++++++++++++++++++++++++++++++\n",
      "{'repeat': 1}\n",
      "++++++++++++++++++++++++++++++\n",
      "{'h': 0, 'w': 1, 'c': 2, 'repeat': 3}\n",
      "++++++++++++++++++++++++++++++\n",
      "[['h'], ['repeat', 'w'], ['c']]\n",
      "++++++++++++++++++++++++++++++\n",
      "{1: 3}\n",
      "[np.int64(96), np.int64(288), np.int64(3)]\n",
      "None\n",
      "[0, 1, 2]\n"
     ]
    },
    {
     "data": {
      "image/png": "[encoded data removed]",
      "text/plain": []
     },
     "execution_count": 33,
     "metadata": {},
     "output_type": "execute_result"
    }
   ],
   "source": [
    "# repeat along w (existing axis)\n",
    "# repeat(ims[0], \"h w c -> h (repeat w) c\", repeat=3)\n",
    "rearrange(ims[0], \"h w c -> h (repeat w) c\", repeat=3)"
   ]
  },
  {
   "cell_type": "code",
   "execution_count": 35,
   "metadata": {},
   "outputs": [
    {
     "data": {
      "image/png": "[encoded data removed]",
      "text/plain": []
     },
     "execution_count": 35,
     "metadata": {},
     "output_type": "execute_result"
    }
   ],
   "source": [
    "# repeat along two existing axes\n",
    "repeat(ims[0], \"h w c -> (2 h) (2 w) c\")"
   ]
  },
  {
   "cell_type": "code",
   "execution_count": 36,
   "metadata": {},
   "outputs": [
    {
     "data": {
      "image/png": "[encoded data removed]",
      "text/plain": []
     },
     "execution_count": 36,
     "metadata": {},
     "output_type": "execute_result"
    }
   ],
   "source": [
    "# order of axes matters as usual - you can repeat each element (pixel) 3 times\n",
    "# by changing order in parenthesis\n",
    "repeat(ims[0], \"h w c -> h (w repeat) c\", repeat=3)"
   ]
  },
  {
   "cell_type": "markdown",
   "metadata": {},
   "source": [
    "Note: `repeat` operation covers functionality identical to `np.repeat`, `np.tile` and actually more than that."
   ]
  },
  {
   "cell_type": "markdown",
   "metadata": {
    "pycharm": {
     "name": "#%% md\n"
    }
   },
   "source": [
    "## Reduce ⇆ repeat\n",
    "\n",
    "reduce and repeat are like opposite of each other: first one reduces amount of elements, second one increases.\n",
    "\n",
    "In the following example each image is repeated first, then we reduce over new axis to get back original tensor. Notice that operation patterns are \"reverse\" of each other"
   ]
  },
  {
   "cell_type": "code",
   "execution_count": 37,
   "metadata": {},
   "outputs": [],
   "source": [
    "repeated = repeat(ims, \"b h w c -> b h new_axis w c\", new_axis=2)\n",
    "reduced = reduce(repeated, \"b h new_axis w c -> b h w c\", \"min\")\n",
    "assert np.array_equal(ims, reduced)"
   ]
  },
  {
   "cell_type": "markdown",
   "metadata": {},
   "source": [
    "## Fancy examples in random order\n",
    "\n",
    "(a.k.a. mad designer gallery)"
   ]
  },
  {
   "cell_type": "code",
   "execution_count": 34,
   "metadata": {},
   "outputs": [
    {
     "name": "stdout",
     "output_type": "stream",
     "text": [
      "[([0], [1]), ([], [2]), ([], [3]), ([], [4])]\n",
      "++++++++++++++++++++++++++++++\n",
      "OrderedDict({'b1': 2, 'b2': -1, 'h': -1, 'w': -1, 'c': -1})\n",
      "++++++++++++++++++++++++++++++\n",
      "[2, 0, 3, 1, 4]\n",
      "++++++++++++++++++++++++++++++\n",
      "{}\n",
      "++++++++++++++++++++++++++++++\n",
      "{'b1': 0, 'b2': 1, 'h': 2, 'w': 3, 'c': 4}\n",
      "++++++++++++++++++++++++++++++\n",
      "[['h', 'b1'], ['w', 'b2'], ['c']]\n",
      "++++++++++++++++++++++++++++++\n",
      "{}\n",
      "[np.int64(192), np.int64(288), np.int64(3)]\n",
      "[2, np.int64(3), 96, 96, 3]\n",
      "[2, 0, 3, 1, 4]\n"
     ]
    },
    {
     "data": {
      "image/png": "[encoded data removed]",
      "text/plain": []
     },
     "execution_count": 34,
     "metadata": {},
     "output_type": "execute_result"
    }
   ],
   "source": [
    "# interweaving pixels of different pictures\n",
    "# all letters are observable\n",
    "rearrange(ims, \"(b1 b2) h w c -> (h b1) (w b2) c \", b1=2)"
   ]
  },
  {
   "cell_type": "code",
   "execution_count": 35,
   "metadata": {},
   "outputs": [
    {
     "name": "stdout",
     "output_type": "stream",
     "text": [
      "[([0], [1]), ([], [2]), ([], [3]), ([], [4])]\n",
      "++++++++++++++++++++++++++++++\n",
      "OrderedDict({'b1': 2, 'b2': -1, 'h': -1, 'w': -1, 'c': -1})\n",
      "++++++++++++++++++++++++++++++\n",
      "[2, 0, 1, 3, 4]\n",
      "++++++++++++++++++++++++++++++\n",
      "{}\n",
      "++++++++++++++++++++++++++++++\n",
      "{'b1': 0, 'b2': 1, 'h': 2, 'w': 3, 'c': 4}\n",
      "++++++++++++++++++++++++++++++\n",
      "[['h', 'b1'], ['b2', 'w'], ['c']]\n",
      "++++++++++++++++++++++++++++++\n",
      "{}\n",
      "[np.int64(192), np.int64(288), np.int64(3)]\n",
      "[2, np.int64(3), 96, 96, 3]\n",
      "[2, 0, 1, 3, 4]\n"
     ]
    },
    {
     "data": {
      "image/png": "[encoded data removed]",
      "text/plain": []
     },
     "execution_count": 35,
     "metadata": {},
     "output_type": "execute_result"
    }
   ],
   "source": [
    "# interweaving along vertical for couples of images\n",
    "rearrange(ims, \"(b1 b2) h w c -> (h b1) (b2 w) c\", b1=2)"
   ]
  },
  {
   "cell_type": "code",
   "execution_count": 37,
   "metadata": {},
   "outputs": [
    {
     "name": "stdout",
     "output_type": "stream",
     "text": [
      "[([], [0]), ([2], [1]), ([4], [3]), ([], [5])]\n",
      "++++++++++++++++++++++++++++++\n",
      "OrderedDict({'b': -1, 'h1': -1, 'h2': 8, 'w1': -1, 'w2': 8, 'c': -1})\n",
      "++++++++++++++++++++++++++++++\n",
      "[1, 4, 0, 3, 2, 5]\n",
      "++++++++++++++++++++++++++++++\n",
      "{}\n",
      "++++++++++++++++++++++++++++++\n",
      "{'b': 0, 'h1': 1, 'h2': 2, 'w1': 3, 'w2': 4, 'c': 5}\n",
      "++++++++++++++++++++++++++++++\n",
      "[['h1', 'w2'], ['b', 'w1', 'h2'], ['c']]\n",
      "++++++++++++++++++++++++++++++\n",
      "{}\n",
      "[np.int64(96), np.int64(576), np.int64(3)]\n",
      "[6, np.int64(12), 8, np.int64(12), 8, 3]\n",
      "[1, 4, 0, 3, 2, 5]\n"
     ]
    },
    {
     "data": {
      "image/png": "[encoded data removed]",
      "text/plain": []
     },
     "execution_count": 37,
     "metadata": {},
     "output_type": "execute_result"
    }
   ],
   "source": [
    "# split in small patches and transpose each patch\n",
    "rearrange(ims, \"b (h1 h2) (w1 w2) c -> (h1 w2) (b w1 h2) c\", h2=8, w2=8)"
   ]
  },
  {
   "cell_type": "code",
   "execution_count": 45,
   "metadata": {},
   "outputs": [
    {
     "data": {
      "image/png": "[encoded data removed]",
      "text/plain": []
     },
     "execution_count": 45,
     "metadata": {},
     "output_type": "execute_result"
    }
   ],
   "source": [
    "# stop me someone!\n",
    "rearrange(ims, \"b (h1 h2 h3) (w1 w2 w3) c -> (h1 w2 h3) (b w1 h2 w3) c\", h2=2, w2=2, w3=2, h3=2)"
   ]
  },
  {
   "cell_type": "code",
   "execution_count": 46,
   "metadata": {},
   "outputs": [
    {
     "data": {
      "image/png": "[encoded data removed]",
      "text/plain": []
     },
     "execution_count": 46,
     "metadata": {},
     "output_type": "execute_result"
    }
   ],
   "source": [
    "rearrange(ims, \"(b1 b2) (h1 h2) (w1 w2) c -> (h1 b1 h2) (w1 b2 w2) c\", h1=3, w1=3, b2=3)"
   ]
  },
  {
   "cell_type": "code",
   "execution_count": 50,
   "metadata": {},
   "outputs": [
    {
     "data": {
      "image/png": "[encoded data removed]",
      "text/plain": []
     },
     "execution_count": 50,
     "metadata": {},
     "output_type": "execute_result"
    }
   ],
   "source": [
    "rearrange(ims, \"b h w c -> w (b h) c\")"
   ]
  }
 ],
 "metadata": {
  "kernelspec": {
   "display_name": "Python 3 (ipykernel)",
   "language": "python",
   "name": "python3"
  },
  "language_info": {
   "codemirror_mode": {
    "name": "ipython",
    "version": 3
   },
   "file_extension": ".py",
   "mimetype": "text/x-python",
   "name": "python",
   "nbconvert_exporter": "python",
   "pygments_lexer": "ipython3",
   "version": "3.13.2"
  }
 },
 "nbformat": 4,
 "nbformat_minor": 4
}
